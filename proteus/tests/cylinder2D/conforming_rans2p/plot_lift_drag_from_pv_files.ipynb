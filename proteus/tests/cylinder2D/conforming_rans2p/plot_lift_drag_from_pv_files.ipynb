version https://git-lfs.github.com/spec/v1
oid sha256:06084af8ba94ba129f0e48cb047e50d19e339c874f744e5cae71f2ab66764982
size 151854
